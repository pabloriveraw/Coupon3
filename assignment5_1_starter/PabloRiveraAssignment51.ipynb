{
 "cells": [
  {
   "cell_type": "markdown",
   "metadata": {
    "id": "CcUT6Fon_qRE"
   },
   "source": [
    "### Required Assignment 5.1: Will the Customer Accept the Coupon?\n",
    "\n",
    "**Context**\n",
    "\n",
    "Imagine driving through town and a coupon is delivered to your cell phone for a restaurant near where you are driving. Would you accept that coupon and take a short detour to the restaurant? Would you accept the coupon but use it on a subsequent trip? Would you ignore the coupon entirely? What if the coupon was for a bar instead of a restaurant? What about a coffee house? Would you accept a bar coupon with a minor passenger in the car? What about if it was just you and your partner in the car? Would weather impact the rate of acceptance? What about the time of day?\n",
    "\n",
    "Obviously, proximity to the business is a factor on whether the coupon is delivered to the driver or not, but what are the factors that determine whether a driver accepts the coupon once it is delivered to them? How would you determine whether a driver is likely to accept a coupon?\n",
    "\n",
    "**Overview**\n",
    "\n",
    "The goal of this project is to use what you know about visualizations and probability distributions to distinguish between customers who accepted a driving coupon versus those that did not.\n",
    "\n",
    "**Data**\n",
    "\n",
    "This data comes to us from the UCI Machine Learning repository and was collected via a survey on Amazon Mechanical Turk. The survey describes different driving scenarios including the destination, current time, weather, passenger, etc., and then ask the person whether he will accept the coupon if he is the driver. Answers that the user will drive there ‘right away’ or ‘later before the coupon expires’ are labeled as ‘Y = 1’ and answers ‘no, I do not want the coupon’ are labeled as ‘Y = 0’.  There are five different types of coupons -- less expensive restaurants (under \\$20), coffee houses, carry out & take away, bar, and more expensive restaurants (\\$20 - $50)."
   ]
  },
  {
   "cell_type": "markdown",
   "metadata": {
    "id": "1wORvMBJ_qRF"
   },
   "source": [
    "**Deliverables**\n",
    "\n",
    "Your final product should be a brief report that highlights the differences between customers who did and did not accept the coupons.  To explore the data you will utilize your knowledge of plotting, statistical summaries, and visualization using Python. You will publish your findings in a public facing github repository as your first portfolio piece.\n",
    "\n",
    "\n",
    "\n"
   ]
  },
  {
   "cell_type": "markdown",
   "metadata": {
    "id": "pG6_Ym6q_qRG"
   },
   "source": [
    "### Data Description\n",
    "Keep in mind that these values mentioned below are average values.\n",
    "\n",
    "The attributes of this data set include:\n",
    "1. User attributes\n",
    "    -  Gender: male, female\n",
    "    -  Age: below 21, 21 to 25, 26 to 30, etc.\n",
    "    -  Marital Status: single, married partner, unmarried partner, or widowed\n",
    "    -  Number of children: 0, 1, or more than 1\n",
    "    -  Education: high school, bachelors degree, associates degree, or graduate degree\n",
    "    -  Occupation: architecture & engineering, business & financial, etc.\n",
    "    -  Annual income: less than \\\\$12500, \\\\$12500 - \\\\$24999, \\\\$25000 - \\\\$37499, etc.\n",
    "    -  Number of times that he/she goes to a bar: 0, less than 1, 1 to 3, 4 to 8 or greater than 8\n",
    "    -  Number of times that he/she buys takeaway food: 0, less than 1, 1 to 3, 4 to 8 or greater\n",
    "    than 8\n",
    "    -  Number of times that he/she goes to a coffee house: 0, less than 1, 1 to 3, 4 to 8 or\n",
    "    greater than 8\n",
    "    -  Number of times that he/she eats at a restaurant with average expense less than \\\\$20 per\n",
    "    person: 0, less than 1, 1 to 3, 4 to 8 or greater than 8\n",
    "    -  Number of times that he/she goes to a bar: 0, less than 1, 1 to 3, 4 to 8 or greater than 8\n",
    "    \n",
    "\n",
    "2. Contextual attributes\n",
    "    - Driving destination: home, work, or no urgent destination\n",
    "    - Location of user, coupon and destination: we provide a map to show the geographical\n",
    "    location of the user, destination, and the venue, and we mark the distance between each\n",
    "    two places with time of driving. The user can see whether the venue is in the same\n",
    "    direction as the destination.\n",
    "    - Weather: sunny, rainy, or snowy\n",
    "    - Temperature: 30F, 55F, or 80F\n",
    "    - Time: 10AM, 2PM, or 6PM\n",
    "    - Passenger: alone, partner, kid(s), or friend(s)\n",
    "\n",
    "\n",
    "3. Coupon attributes\n",
    "    - time before it expires: 2 hours or one day"
   ]
  },
  {
   "cell_type": "code",
   "execution_count": 11,
   "metadata": {
    "id": "dzNoP3o__qRG"
   },
   "outputs": [],
   "source": [
    "import matplotlib.pyplot as plt\n",
    "import seaborn as sns\n",
    "import pandas as pd\n",
    "import numpy as np"
   ]
  },
  {
   "cell_type": "markdown",
   "metadata": {
    "id": "Ct8pI1uE_qRG"
   },
   "source": [
    "### Problems\n",
    "\n",
    "Use the prompts below to get started with your data analysis.  \n",
    "\n",
    "1. Read in the `coupons.csv` file.\n",
    "\n",
    "\n"
   ]
  },
  {
   "cell_type": "code",
   "execution_count": 12,
   "metadata": {
    "id": "X0vbffYg_qRH"
   },
   "outputs": [],
   "source": [
    "data = pd.read_csv('data/coupons.csv')"
   ]
  },
  {
   "cell_type": "code",
   "execution_count": 13,
   "metadata": {
    "id": "TXofQ_DF_qRH",
    "outputId": "2fc96a2c-1112-4b54-f24f-dbb9bc88abfb"
   },
   "outputs": [
    {
     "data": {
      "text/html": [
       "<div>\n",
       "<style scoped>\n",
       "    .dataframe tbody tr th:only-of-type {\n",
       "        vertical-align: middle;\n",
       "    }\n",
       "\n",
       "    .dataframe tbody tr th {\n",
       "        vertical-align: top;\n",
       "    }\n",
       "\n",
       "    .dataframe thead th {\n",
       "        text-align: right;\n",
       "    }\n",
       "</style>\n",
       "<table border=\"1\" class=\"dataframe\">\n",
       "  <thead>\n",
       "    <tr style=\"text-align: right;\">\n",
       "      <th></th>\n",
       "      <th>destination</th>\n",
       "      <th>passanger</th>\n",
       "      <th>weather</th>\n",
       "      <th>temperature</th>\n",
       "      <th>time</th>\n",
       "      <th>coupon</th>\n",
       "      <th>expiration</th>\n",
       "      <th>gender</th>\n",
       "      <th>age</th>\n",
       "      <th>maritalStatus</th>\n",
       "      <th>...</th>\n",
       "      <th>CoffeeHouse</th>\n",
       "      <th>CarryAway</th>\n",
       "      <th>RestaurantLessThan20</th>\n",
       "      <th>Restaurant20To50</th>\n",
       "      <th>toCoupon_GEQ5min</th>\n",
       "      <th>toCoupon_GEQ15min</th>\n",
       "      <th>toCoupon_GEQ25min</th>\n",
       "      <th>direction_same</th>\n",
       "      <th>direction_opp</th>\n",
       "      <th>Y</th>\n",
       "    </tr>\n",
       "  </thead>\n",
       "  <tbody>\n",
       "    <tr>\n",
       "      <th>0</th>\n",
       "      <td>No Urgent Place</td>\n",
       "      <td>Alone</td>\n",
       "      <td>Sunny</td>\n",
       "      <td>55</td>\n",
       "      <td>2PM</td>\n",
       "      <td>Restaurant(&lt;20)</td>\n",
       "      <td>1d</td>\n",
       "      <td>Female</td>\n",
       "      <td>21</td>\n",
       "      <td>Unmarried partner</td>\n",
       "      <td>...</td>\n",
       "      <td>never</td>\n",
       "      <td>NaN</td>\n",
       "      <td>4~8</td>\n",
       "      <td>1~3</td>\n",
       "      <td>1</td>\n",
       "      <td>0</td>\n",
       "      <td>0</td>\n",
       "      <td>0</td>\n",
       "      <td>1</td>\n",
       "      <td>1</td>\n",
       "    </tr>\n",
       "    <tr>\n",
       "      <th>1</th>\n",
       "      <td>No Urgent Place</td>\n",
       "      <td>Friend(s)</td>\n",
       "      <td>Sunny</td>\n",
       "      <td>80</td>\n",
       "      <td>10AM</td>\n",
       "      <td>Coffee House</td>\n",
       "      <td>2h</td>\n",
       "      <td>Female</td>\n",
       "      <td>21</td>\n",
       "      <td>Unmarried partner</td>\n",
       "      <td>...</td>\n",
       "      <td>never</td>\n",
       "      <td>NaN</td>\n",
       "      <td>4~8</td>\n",
       "      <td>1~3</td>\n",
       "      <td>1</td>\n",
       "      <td>0</td>\n",
       "      <td>0</td>\n",
       "      <td>0</td>\n",
       "      <td>1</td>\n",
       "      <td>0</td>\n",
       "    </tr>\n",
       "    <tr>\n",
       "      <th>2</th>\n",
       "      <td>No Urgent Place</td>\n",
       "      <td>Friend(s)</td>\n",
       "      <td>Sunny</td>\n",
       "      <td>80</td>\n",
       "      <td>10AM</td>\n",
       "      <td>Carry out &amp; Take away</td>\n",
       "      <td>2h</td>\n",
       "      <td>Female</td>\n",
       "      <td>21</td>\n",
       "      <td>Unmarried partner</td>\n",
       "      <td>...</td>\n",
       "      <td>never</td>\n",
       "      <td>NaN</td>\n",
       "      <td>4~8</td>\n",
       "      <td>1~3</td>\n",
       "      <td>1</td>\n",
       "      <td>1</td>\n",
       "      <td>0</td>\n",
       "      <td>0</td>\n",
       "      <td>1</td>\n",
       "      <td>1</td>\n",
       "    </tr>\n",
       "    <tr>\n",
       "      <th>3</th>\n",
       "      <td>No Urgent Place</td>\n",
       "      <td>Friend(s)</td>\n",
       "      <td>Sunny</td>\n",
       "      <td>80</td>\n",
       "      <td>2PM</td>\n",
       "      <td>Coffee House</td>\n",
       "      <td>2h</td>\n",
       "      <td>Female</td>\n",
       "      <td>21</td>\n",
       "      <td>Unmarried partner</td>\n",
       "      <td>...</td>\n",
       "      <td>never</td>\n",
       "      <td>NaN</td>\n",
       "      <td>4~8</td>\n",
       "      <td>1~3</td>\n",
       "      <td>1</td>\n",
       "      <td>1</td>\n",
       "      <td>0</td>\n",
       "      <td>0</td>\n",
       "      <td>1</td>\n",
       "      <td>0</td>\n",
       "    </tr>\n",
       "    <tr>\n",
       "      <th>4</th>\n",
       "      <td>No Urgent Place</td>\n",
       "      <td>Friend(s)</td>\n",
       "      <td>Sunny</td>\n",
       "      <td>80</td>\n",
       "      <td>2PM</td>\n",
       "      <td>Coffee House</td>\n",
       "      <td>1d</td>\n",
       "      <td>Female</td>\n",
       "      <td>21</td>\n",
       "      <td>Unmarried partner</td>\n",
       "      <td>...</td>\n",
       "      <td>never</td>\n",
       "      <td>NaN</td>\n",
       "      <td>4~8</td>\n",
       "      <td>1~3</td>\n",
       "      <td>1</td>\n",
       "      <td>1</td>\n",
       "      <td>0</td>\n",
       "      <td>0</td>\n",
       "      <td>1</td>\n",
       "      <td>0</td>\n",
       "    </tr>\n",
       "  </tbody>\n",
       "</table>\n",
       "<p>5 rows × 26 columns</p>\n",
       "</div>"
      ],
      "text/plain": [
       "       destination  passanger weather  temperature  time  \\\n",
       "0  No Urgent Place      Alone   Sunny           55   2PM   \n",
       "1  No Urgent Place  Friend(s)   Sunny           80  10AM   \n",
       "2  No Urgent Place  Friend(s)   Sunny           80  10AM   \n",
       "3  No Urgent Place  Friend(s)   Sunny           80   2PM   \n",
       "4  No Urgent Place  Friend(s)   Sunny           80   2PM   \n",
       "\n",
       "                  coupon expiration  gender age      maritalStatus  ...  \\\n",
       "0        Restaurant(<20)         1d  Female  21  Unmarried partner  ...   \n",
       "1           Coffee House         2h  Female  21  Unmarried partner  ...   \n",
       "2  Carry out & Take away         2h  Female  21  Unmarried partner  ...   \n",
       "3           Coffee House         2h  Female  21  Unmarried partner  ...   \n",
       "4           Coffee House         1d  Female  21  Unmarried partner  ...   \n",
       "\n",
       "   CoffeeHouse CarryAway RestaurantLessThan20 Restaurant20To50  \\\n",
       "0        never       NaN                  4~8              1~3   \n",
       "1        never       NaN                  4~8              1~3   \n",
       "2        never       NaN                  4~8              1~3   \n",
       "3        never       NaN                  4~8              1~3   \n",
       "4        never       NaN                  4~8              1~3   \n",
       "\n",
       "  toCoupon_GEQ5min toCoupon_GEQ15min toCoupon_GEQ25min direction_same  \\\n",
       "0                1                 0                 0              0   \n",
       "1                1                 0                 0              0   \n",
       "2                1                 1                 0              0   \n",
       "3                1                 1                 0              0   \n",
       "4                1                 1                 0              0   \n",
       "\n",
       "  direction_opp  Y  \n",
       "0             1  1  \n",
       "1             1  0  \n",
       "2             1  1  \n",
       "3             1  0  \n",
       "4             1  0  \n",
       "\n",
       "[5 rows x 26 columns]"
      ]
     },
     "execution_count": 13,
     "metadata": {},
     "output_type": "execute_result"
    }
   ],
   "source": [
    "data.head()"
   ]
  },
  {
   "cell_type": "markdown",
   "metadata": {
    "id": "GcDs78ZH_qRH"
   },
   "source": [
    "2. Investigate the dataset for missing or problematic data."
   ]
  },
  {
   "cell_type": "code",
   "execution_count": 96,
   "metadata": {
    "id": "6CwL6oWj_qRH",
    "scrolled": true
   },
   "outputs": [
    {
     "name": "stdout",
     "output_type": "stream",
     "text": [
      "\n",
      " summary missing values:\n",
      "                                  Missing Values in the file Coupons.csv ->   \\\n",
      "destination                                                                0   \n",
      "passanger                                                                  0   \n",
      "weather                                                                    0   \n",
      "temperature                                                                0   \n",
      "time                                                                       0   \n",
      "coupon                                                                     0   \n",
      "expiration                                                                 0   \n",
      "gender                                                                     0   \n",
      "age                                                                        0   \n",
      "maritalStatus                                                              0   \n",
      "has_children                                                               0   \n",
      "education                                                                  0   \n",
      "occupation                                                                 0   \n",
      "income                                                                     0   \n",
      "car                                                                        0   \n",
      "Bar                                                                        0   \n",
      "CoffeeHouse                                                                0   \n",
      "CarryAway                                                                  0   \n",
      "RestaurantLessThan20                                                       0   \n",
      "Restaurant20To50                                                           0   \n",
      "toCoupon_GEQ5min                                                           0   \n",
      "toCoupon_GEQ15min                                                          0   \n",
      "toCoupon_GEQ25min                                                          0   \n",
      "direction_same                                                             0   \n",
      "direction_opp                                                              0   \n",
      "Y                                                                          0   \n",
      "Bar_more_than_once                                                         0   \n",
      "RestaurantLessThan20_more_than_4                                           0   \n",
      "income_less_than_50K                                                       0   \n",
      "Bar_more_than_onetime                                                      0   \n",
      "\n",
      "                                    %  \n",
      "destination                       0.0  \n",
      "passanger                         0.0  \n",
      "weather                           0.0  \n",
      "temperature                       0.0  \n",
      "time                              0.0  \n",
      "coupon                            0.0  \n",
      "expiration                        0.0  \n",
      "gender                            0.0  \n",
      "age                               0.0  \n",
      "maritalStatus                     0.0  \n",
      "has_children                      0.0  \n",
      "education                         0.0  \n",
      "occupation                        0.0  \n",
      "income                            0.0  \n",
      "car                               0.0  \n",
      "Bar                               0.0  \n",
      "CoffeeHouse                       0.0  \n",
      "CarryAway                         0.0  \n",
      "RestaurantLessThan20              0.0  \n",
      "Restaurant20To50                  0.0  \n",
      "toCoupon_GEQ5min                  0.0  \n",
      "toCoupon_GEQ15min                 0.0  \n",
      "toCoupon_GEQ25min                 0.0  \n",
      "direction_same                    0.0  \n",
      "direction_opp                     0.0  \n",
      "Y                                 0.0  \n",
      "Bar_more_than_once                0.0  \n",
      "RestaurantLessThan20_more_than_4  0.0  \n",
      "income_less_than_50K              0.0  \n",
      "Bar_more_than_onetime             0.0  \n",
      "\n",
      " my duplicated rows: 0\n",
      "\n",
      "Unique values in categorical columns:\n",
      "Column: destination\n",
      "Unique Values: ['No Urgent Place' 'Home' 'Work']\n",
      "-\n",
      "Column: passanger\n",
      "Unique Values: ['Alone' 'Friend(s)' 'Kid(s)' 'Partner']\n",
      "-\n",
      "Column: weather\n",
      "Unique Values: ['Sunny' 'Rainy' 'Snowy']\n",
      "-\n",
      "Column: time\n",
      "Unique Values: ['2PM' '10AM' '6PM' '7AM' '10PM']\n",
      "-\n",
      "Column: coupon\n",
      "Unique Values: ['Restaurant(<20)' 'Coffee House' 'Carry out & Take away' 'Bar'\n",
      " 'Restaurant(20-50)']\n",
      "-\n",
      "Column: expiration\n",
      "Unique Values: ['1d' '2h']\n",
      "-\n",
      "Column: gender\n",
      "Unique Values: ['Female' 'Male']\n",
      "-\n",
      "Column: maritalStatus\n",
      "Unique Values: ['Unmarried partner' 'Single' 'Married partner' 'Divorced']\n",
      "-\n",
      "Column: education\n",
      "Unique Values: ['Some college - no degree' 'Bachelors degree' 'Associates degree'\n",
      " 'High School Graduate' 'Graduate degree (Masters or Doctorate)'\n",
      " 'Some High School']\n",
      "-\n",
      "Column: occupation\n",
      "Unique Values: ['Unemployed' 'Architecture & Engineering' 'Student'\n",
      " 'Education&Training&Library' 'Healthcare Support'\n",
      " 'Healthcare Practitioners & Technical' 'Sales & Related' 'Management'\n",
      " 'Arts Design Entertainment Sports & Media' 'Computer & Mathematical']\n",
      "... (and more)\n",
      "-\n",
      "Column: income\n",
      "Unique Values: ['$37500 - $49999' '$62500 - $74999' '$12500 - $24999' '$75000 - $87499'\n",
      " '$50000 - $62499' '$25000 - $37499' '$100000 or More' '$87500 - $99999'\n",
      " 'Less than $12500']\n",
      "-\n",
      "Column: car\n",
      "Unique Values: ['Mazda5' 'Scooter and motorcycle' 'crossover' 'do not drive'\n",
      " 'Car that is too old to install Onstar :D']\n",
      "-\n",
      "Column: Bar\n",
      "Unique Values: ['never' 'less1' '1~3' 'gt8' '4~8']\n",
      "-\n",
      "Column: CoffeeHouse\n",
      "Unique Values: ['never' 'less1' '4~8' '1~3' 'gt8']\n",
      "-\n",
      "Column: CarryAway\n",
      "Unique Values: ['1~3' '4~8' 'gt8' 'less1' 'never']\n",
      "-\n",
      "Column: RestaurantLessThan20\n",
      "Unique Values: ['4~8' '1~3' 'less1' 'gt8' 'never']\n",
      "-\n",
      "Column: Restaurant20To50\n",
      "Unique Values: ['1~3' 'less1' 'never' 'gt8' '4~8']\n",
      "-\n",
      "\n",
      "Numerical column anomalies:\n",
      "\n",
      "Dataset shape -> : (10285, 30)\n",
      "-- Column data types :\n",
      "destination                          object\n",
      "passanger                            object\n",
      "weather                              object\n",
      "temperature                           int64\n",
      "time                                 object\n",
      "coupon                               object\n",
      "expiration                           object\n",
      "gender                               object\n",
      "age                                 float64\n",
      "maritalStatus                        object\n",
      "has_children                          int64\n",
      "education                            object\n",
      "occupation                           object\n",
      "income                               object\n",
      "car                                  object\n",
      "Bar                                  object\n",
      "CoffeeHouse                          object\n",
      "CarryAway                            object\n",
      "RestaurantLessThan20                 object\n",
      "Restaurant20To50                     object\n",
      "toCoupon_GEQ5min                      int64\n",
      "toCoupon_GEQ15min                     int64\n",
      "toCoupon_GEQ25min                     int64\n",
      "direction_same                        int64\n",
      "direction_opp                         int64\n",
      "Y                                     int64\n",
      "Bar_more_than_once                    int64\n",
      "RestaurantLessThan20_more_than_4      int64\n",
      "income_less_than_50K                  int64\n",
      "Bar_more_than_onetime                 int64\n",
      "dtype: object\n"
     ]
    }
   ],
   "source": [
    "def check_missing_data(df):\n",
    "    missing_summary = df.isnull().sum()\n",
    "    missing_percent = (missing_summary / len(df)) * 100\n",
    "    return pd.DataFrame({\"Missing Values in the file Coupons.csv -> \": missing_summary, \"%\": missing_percent})\n",
    "\n",
    "missing_data = check_missing_data(data)\n",
    "print(\"\\n summary missing values:\")\n",
    "print(missing_data)\n",
    "\n",
    "# Looking for any duplicated rows in the data set ...  \n",
    "duplicate_rows = data.duplicated().sum()\n",
    "print(f\"\\n my duplicated rows: {duplicate_rows}\")\n",
    "\n",
    "# issues like unexpected or inconsistent categories\n",
    "def check_unique_values(df):\n",
    "    unique_summary = {col: df[col].unique() for col in df.columns if df[col].dtype == 'object'}\n",
    "    return unique_summary\n",
    "\n",
    "unique_values = check_unique_values(data)\n",
    "print(\"\\nUnique values in categorical columns:\")\n",
    "for col, values in unique_values.items():\n",
    "    print(f\"Column: {col}\")\n",
    "    print(f\"Unique Values: {values[:10]}\")\n",
    "    if len(values) > 10:\n",
    "        print(\"... (and more)\")\n",
    "    print(\"-\")\n",
    "\n",
    "# Detect any numerical columns with issues\n",
    "def check_numerical_anomalies(df):\n",
    "    anomalies = {}\n",
    "    for col in df.select_dtypes(include=[np.number]).columns:\n",
    "        if (df[col] < 0).any():\n",
    "            anomalies[col] = \"Contains negative values\"\n",
    "        elif df[col].isnull().all():\n",
    "            anomalies[col] = \"All values are missing\"\n",
    "    return anomalies\n",
    "\n",
    "numerical_anomalies = check_numerical_anomalies(data)\n",
    "print(\"\\nNumerical column anomalies:\")\n",
    "for col, issue in numerical_anomalies.items():\n",
    "    print(f\"{col}: {issue}\")\n",
    "\n",
    "# Final Summary \n",
    "print(\"\\nDataset shape -> :\", data.shape)\n",
    "print(\"-- Column data types :\")\n",
    "print(data.dtypes)"
   ]
  },
  {
   "cell_type": "markdown",
   "metadata": {
    "id": "bSdVSpYB_qRH"
   },
   "source": [
    "3. Decide what to do about your missing data -- drop, replace, other..."
   ]
  },
  {
   "cell_type": "code",
   "execution_count": 23,
   "metadata": {
    "id": "tyvoAC5F_qRI"
   },
   "outputs": [
    {
     "name": "stdout",
     "output_type": "stream",
     "text": [
      "\n",
      "Summary of missing data:\n",
      "                      Missing Values  Percentage\n",
      "destination                        0         0.0\n",
      "passanger                          0         0.0\n",
      "weather                            0         0.0\n",
      "temperature                        0         0.0\n",
      "time                               0         0.0\n",
      "coupon                             0         0.0\n",
      "expiration                         0         0.0\n",
      "gender                             0         0.0\n",
      "age                                0         0.0\n",
      "maritalStatus                      0         0.0\n",
      "has_children                       0         0.0\n",
      "education                          0         0.0\n",
      "occupation                         0         0.0\n",
      "income                             0         0.0\n",
      "car                                0         0.0\n",
      "Bar                                0         0.0\n",
      "CoffeeHouse                        0         0.0\n",
      "CarryAway                          0         0.0\n",
      "RestaurantLessThan20               0         0.0\n",
      "Restaurant20To50                   0         0.0\n",
      "toCoupon_GEQ5min                   0         0.0\n",
      "toCoupon_GEQ15min                  0         0.0\n",
      "toCoupon_GEQ25min                  0         0.0\n",
      "direction_same                     0         0.0\n",
      "direction_opp                      0         0.0\n",
      "Y                                  0         0.0\n",
      "Missing data summary saved to /Users/pablorivera/PabloCoupon/missing_data_summary.txt\n",
      "Rows changed with mean saved to /Users/pablorivera/PabloCoupon/rows_changed_with_mean.txt\n",
      "Columns changed with mode saved to /Users/pablorivera/PabloCoupon/columns_changed_with_mode.txt\n",
      "\n",
      "Number of duplicate rows: 74\n",
      "Number of duplicate rows after removal: 0\n"
     ]
    }
   ],
   "source": [
    "def check_missing_data(df):\n",
    "    missing_summary = df.isnull().sum()\n",
    "    missing_percent = (missing_summary / len(df)) * 100\n",
    "    return pd.DataFrame({\"Missing Values\": missing_summary, \"Percentage\": missing_percent})\n",
    "\n",
    "missing_data = check_missing_data(data)\n",
    "print(\"\\nSummary of missing data:\")\n",
    "print(missing_data)\n",
    "\n",
    "# Save missing data summary to my text file\n",
    "missing_data_file = '/Users/pablorivera/PabloCoupon/missing_data_summary.txt'\n",
    "with open(missing_data_file, 'w') as file:\n",
    "    file.write(\"Summary of missing data:\\n\")\n",
    "    file.write(missing_data.to_string())\n",
    "print(f\"Missing data summary saved to {missing_data_file}\")\n",
    "\n",
    "# Handle missing data\n",
    "# 1. Numerical columns: check for issues\n",
    "rows_changed = []\n",
    "numerical_columns = data.select_dtypes(include=[np.number]).columns\n",
    "for col in numerical_columns:\n",
    "    if data[col].isnull().sum() > 0:\n",
    "        missing_indices = data[data[col].isnull()].index.tolist()\n",
    "        rows_changed.extend([(index, col) for index in missing_indices])\n",
    "        for index in missing_indices:\n",
    "            print(f\"Imputing missing value at Row: {index}, Column: {col}\")\n",
    "        data[col].fillna(data[col].mean(), inplace=True)\n",
    "\n",
    "# Save rows changed to a text file\n",
    "rows_changed_file = '/Users/pablorivera/PabloCoupon/rows_changed_with_mean.txt'\n",
    "with open(rows_changed_file, 'w') as file:\n",
    "    file.write(\"Rows and columns changed with mean imputation:\\n\")\n",
    "    for row, column in rows_changed:\n",
    "        file.write(f\"Row: {row}, Column: {column}\\n\")\n",
    "print(f\"Rows changed with mean saved to {rows_changed_file}\")\n",
    "\n",
    "# 2. Category columns: Impute with mode and log changes\n",
    "columns_changed = []\n",
    "categorical_columns = data.select_dtypes(include=['object']).columns\n",
    "for col in categorical_columns:\n",
    "    if data[col].isnull().sum() > 0:\n",
    "        missing_indices = data[data[col].isnull()].index.tolist()\n",
    "        columns_changed.extend([(index, col) for index in missing_indices])\n",
    "        for index in missing_indices:\n",
    "            print(f\"Imputing missing value at Row: {index}, Column: {col}\")\n",
    "        data[col].fillna(data[col].mode()[0], inplace=True)\n",
    "\n",
    "# Save to a text file\n",
    "columns_changed_file = '/Users/pablorivera/PabloCoupon/columns_changed_with_mode.txt'\n",
    "with open(columns_changed_file, 'w') as file:\n",
    "    file.write(\"Rows and columns changed with mode imputation:\\n\")\n",
    "    for row, column in columns_changed:\n",
    "        file.write(f\"Row: {row}, Column: {column}\\n\")\n",
    "print(f\"Columns changed with mode saved to {columns_changed_file}\")\n",
    "\n",
    "\n",
    "# Check for duplicate rows\n",
    "duplicate_rows = data.duplicated().sum()\n",
    "print(f\"\\nNumber of duplicate rows: {duplicate_rows}\")\n",
    "# I need to remove the duplicated values \n",
    "data = data.drop_duplicates()\n",
    "print(f\"Number of duplicate rows after removal: {data.duplicated().sum()}\")\n"
   ]
  },
  {
   "cell_type": "markdown",
   "metadata": {
    "id": "YE6oJbXd_qRI"
   },
   "source": [
    "4. What proportion of the total observations chose to accept the coupon?\n",
    "\n"
   ]
  },
  {
   "cell_type": "code",
   "execution_count": 76,
   "metadata": {
    "id": "86GGqBTv_qRI"
   },
   "outputs": [
    {
     "name": "stdout",
     "output_type": "stream",
     "text": [
      "\n",
      "Proportion of total observations that accepted the coupon: 57.46%\n"
     ]
    }
   ],
   "source": [
    "acceptance_rate = data['Y'].mean()\n",
    "print(f\"\\nProportion of total observations that accepted the coupon: {acceptance_rate:.2%}\")"
   ]
  },
  {
   "cell_type": "markdown",
   "metadata": {
    "id": "vflz0DoE_qRI"
   },
   "source": [
    "5. Use a bar plot to visualize the `coupon` column."
   ]
  },
  {
   "cell_type": "code",
   "execution_count": 29,
   "metadata": {
    "id": "dHFh3E45_qRI"
   },
   "outputs": [
    {
     "data": {
      "image/png": "[encoded data removed]",
      "text/plain": [
       "<Figure size 640x480 with 1 Axes>"
      ]
     },
     "metadata": {},
     "output_type": "display_data"
    }
   ],
   "source": [
    "sns.countplot(data=data, x='coupon', order=data['coupon'].value_counts().index)\n",
    "plt.title(\"Distribution of Coupon Types\")\n",
    "plt.xlabel(\"Type of Coupon\")\n",
    "plt.ylabel(\"Count\")\n",
    "plt.tight_layout()\n",
    "plt.show()\n"
   ]
  },
  {
   "cell_type": "markdown",
   "metadata": {
    "id": "Qw4lCyx2_qRI"
   },
   "source": [
    "6. Use a histogram to visualize the temperature column."
   ]
  },
  {
   "cell_type": "code",
   "execution_count": 34,
   "metadata": {
    "id": "Yg9Anv71_qRI"
   },
   "outputs": [
    {
     "data": {
      "image/png": "[encoded data removed]",
      "text/plain": [
       "<Figure size 640x480 with 1 Axes>"
      ]
     },
     "metadata": {},
     "output_type": "display_data"
    }
   ],
   "source": [
    "sns.histplot(data=data, x='temperature')\n",
    "plt.title(\"Histogram of Temperature\")\n",
    "plt.xlabel(\"Temp\")\n",
    "plt.ylabel(\"Freq\")\n",
    "plt.show()"
   ]
  },
  {
   "cell_type": "code",
   "execution_count": null,
   "metadata": {
    "id": "zLtOaJQk_qRI"
   },
   "outputs": [],
   "source": []
  },
  {
   "cell_type": "code",
   "execution_count": null,
   "metadata": {
    "id": "7GBHZKBp_qRJ"
   },
   "outputs": [],
   "source": []
  },
  {
   "cell_type": "code",
   "execution_count": null,
   "metadata": {
    "id": "Y5nBUA-j_qRJ"
   },
   "outputs": [],
   "source": []
  },
  {
   "cell_type": "code",
   "execution_count": null,
   "metadata": {
    "id": "ShcUC-Vm_qRJ"
   },
   "outputs": [],
   "source": []
  },
  {
   "cell_type": "markdown",
   "metadata": {
    "id": "FupfgeJk_qRJ"
   },
   "source": [
    "**Investigating the Bar Coupons**\n",
    "\n",
    "Now, we will lead you through an exploration of just the bar related coupons.  \n",
    "\n",
    "1. Create a new `DataFrame` that contains just the bar coupons.\n"
   ]
  },
  {
   "cell_type": "code",
   "execution_count": 36,
   "metadata": {
    "id": "tMBlWuGq_qRJ"
   },
   "outputs": [
    {
     "name": "stdout",
     "output_type": "stream",
     "text": [
      "\n",
      "DataFrame with only bar coupons created. Number of rows: 2010\n"
     ]
    }
   ],
   "source": [
    "bar_coupons_df = data[data['coupon'] == 'Bar']\n",
    "print(f\"\\nDataFrame with only bar coupons created. Number of rows: {len(bar_coupons_df)}\")"
   ]
  },
  {
   "cell_type": "markdown",
   "metadata": {
    "id": "8ue6uCqf_qRJ"
   },
   "source": [
    "2. What proportion of bar coupons were accepted?\n"
   ]
  },
  {
   "cell_type": "code",
   "execution_count": 42,
   "metadata": {
    "id": "hSdte8Mi_qRK"
   },
   "outputs": [
    {
     "name": "stdout",
     "output_type": "stream",
     "text": [
      "Proportion of bar coupons accepted: 41.00%\n"
     ]
    }
   ],
   "source": [
    "if 'Y' in bar_coupons_df.columns:\n",
    "    bar_coupons_acceptance_rate = bar_coupons_df['Y'].mean()\n",
    "    print(f\"Proportion of bar coupons accepted: {bar_coupons_acceptance_rate:.2%}\")"
   ]
  },
  {
   "cell_type": "markdown",
   "metadata": {
    "id": "85nA_iEi_qRK"
   },
   "source": [
    "3. Compare the acceptance rate between those who went to a bar 3 or fewer times a month to those who went more.\n"
   ]
  },
  {
   "cell_type": "code",
   "execution_count": 79,
   "metadata": {
    "id": "LBOrN-XM_qRK"
   },
   "outputs": [
    {
     "name": "stdout",
     "output_type": "stream",
     "text": [
      "\n",
      "Acceptance rates bar visit freq:\n",
      "Bar_visits_group\n",
      "3 or fewer     0.370514\n",
      "More than 3    0.768844\n",
      "Name: Y, dtype: float64\n"
     ]
    }
   ],
   "source": [
    "My_array_help_visit = { 'never': '3 or fewer', \n",
    "                'less1': '3 or fewer',\n",
    "                '1~3': '3 or fewer',\n",
    "                '4~8': 'More than 3',\n",
    "                'gt8': 'More than 3'}\n",
    "bar_coupons_df.loc[:,'Bar_visits_group'] = bar_coupons_df['Bar'].map(My_array_help_visit)\n",
    "tmp_acceptance_rate_by_group = bar_coupons_df.groupby('Bar_visits_group')['Y'].mean()\n",
    "print(\"\\nAcceptance rates bar visit freq:\")   \n",
    "print(tmp_acceptance_rate_by_group)\n"
   ]
  },
  {
   "cell_type": "markdown",
   "metadata": {
    "id": "RBgcQwH4_qRK"
   },
   "source": [
    "4. Compare the acceptance rate between drivers who go to a bar more than once a month and are over the age of 25 to the all others.  Is there a difference?\n"
   ]
  },
  {
   "cell_type": "code",
   "execution_count": 84,
   "metadata": {
    "id": "bf28bbeX_qRK"
   },
   "outputs": [
    {
     "name": "stdout",
     "output_type": "stream",
     "text": [
      "\n",
      "Acceptance Comp:-> \n",
      "Drivers going to bar > than once a month and > 25: 62.43%\n",
      "All other drivers: 55.99%\n"
     ]
    }
   ],
   "source": [
    "data['age'] = pd.to_numeric(data['age'], errors='coerce')   ## force to numeric \n",
    "data = data.dropna(subset=['age'])## remove invalid rows \n",
    "\n",
    "helper_visit = {\n",
    "        'never': 0,\n",
    "        'less1': 0,\n",
    "        '1~3': 1,\n",
    "        '4~8': 1,\n",
    "        'gt8': 1\n",
    "    }\n",
    "data['Bar_more_than_once'] = data['Bar'].map(helper_visit)\n",
    "myTMPgroupA = data.loc[(data['Bar_more_than_once'] == 1) & (data['age'] > 25)]\n",
    "myTMPgroupB = data.loc[~((data['Bar_more_than_once'] == 1) & (data['age'] > 25))]\n",
    "myTMPgroupA_acceptance = myTMPgroupA['Y'].mean() \n",
    "myTMPgroupB_acceptance = myTMPgroupB['Y'].mean() \n",
    "print(\"\\nAcceptance Comp:-> \")\n",
    "print(f\"Drivers going to bar > than once a month and > 25: {myTMPgroupA_acceptance:.2%}\")\n",
    "print(f\"All other drivers: {myTMPgroupB_acceptance:.2%}\")"
   ]
  },
  {
   "cell_type": "markdown",
   "metadata": {
    "id": "S4RKT4PJ_qRK"
   },
   "source": [
    "5. Use the same process to compare the acceptance rate between drivers who go to bars more than once a month and had passengers that were not a kid and had occupations other than farming, fishing, or forestry.\n"
   ]
  },
  {
   "cell_type": "code",
   "execution_count": 86,
   "metadata": {
    "id": "sENaI2Tg_qRK"
   },
   "outputs": [
    {
     "name": "stdout",
     "output_type": "stream",
     "text": [
      "\n",
      "Acceptance rate comparison:\n",
      "Drivers that go to bar > once a month, and have passengers <> kids, and occupations <> farming, fishing, or forestry: 62.43%\n",
      "All other drivers: 55.08%\n"
     ]
    }
   ],
   "source": [
    "visit_mapping = {\n",
    "        'never': 0,\n",
    "        'less1': 0,\n",
    "        '1~3': 1,\n",
    "        '4~8': 1,\n",
    "        'gt8': 1\n",
    "}\n",
    "data['Bar_more_than_once'] = data['Bar'].map(visit_mapping)\n",
    "groupA = data.loc[(data['Bar_more_than_once'] == 1) &\n",
    "                      (data['passanger'] != 'Kid(s)') &\n",
    "                      (~data['occupation'].isin(['Farming', 'Fishing', 'Forestry']))]\n",
    "groupB = data.loc[~((data['Bar_more_than_once'] == 1) &\n",
    "                        (data['passanger'] != 'Kid(s)') &\n",
    "                        (~data['occupation'].isin(['Farming', 'Fishing', 'Forestry'])))]\n",
    "\n",
    "groupA_acceptance = groupA['Y'].mean() \n",
    "groupB_acceptance = groupB['Y'].mean() \n",
    "print(\"\\nAcceptance rate comparison:\")\n",
    "print(f\"Drivers that go to bar > once a month, and have passengers <> kids, and occupations <> farming, fishing, or forestry: {group1_acceptance:.2%}\")\n",
    "print(f\"All other drivers: {groupB_acceptance:.2%}\")"
   ]
  },
  {
   "cell_type": "markdown",
   "metadata": {
    "id": "n2LIUTil_qRK"
   },
   "source": [
    "6. Compare the acceptance rates between those drivers who:\n",
    "\n",
    "- go to bars more than once a month, had passengers that were not a kid, and were not widowed *OR*\n",
    "- go to bars more than once a month and are under the age of 30 *OR*\n",
    "- go to cheap restaurants more than 4 times a month and income is less than 50K.\n",
    "\n"
   ]
  },
  {
   "cell_type": "code",
   "execution_count": 91,
   "metadata": {
    "id": "aK_wEzx7_qRK"
   },
   "outputs": [
    {
     "name": "stdout",
     "output_type": "stream",
     "text": [
      "\n",
      "Acceptance rate comp:\n",
      "Drivers al least 1 od cond: 62.6%\n",
      "All other drivers: 55.1%\n"
     ]
    }
   ],
   "source": [
    "if all(col in data.columns for col in ['Bar', 'passanger', 'maritalStatus', 'age', 'RestaurantLessThan20', 'income']):\n",
    "    visit_classification = {\n",
    "        'never': 0,\n",
    "        'less1': 0,\n",
    "        '1~3': 1,\n",
    "        '4~8': 1,\n",
    "        'gt8': 1\n",
    "    }\n",
    "    data['Bar_more_than_onetime'] = data['Bar'].map(visit_classification)\n",
    "    # (a) Go to bars more than 1 a month, had passengers that were not kids, and were not widowed\n",
    "    condition1 = (data['Bar_more_than_onetime'] == 1) & (data['passanger'] != 'Kid(s)') & (data['maritalStatus'] != 'Widowed')\n",
    "    # (b) Go to bars more than 1 a month and are under the age of 30\n",
    "    condition2 = (data['Bar_more_than_onetime'] == 1) & (pd.to_numeric(data['age'], errors='coerce') < 30)\n",
    "    # (c) Go to restaurent > 4 times per month and income < than 50K\n",
    "    restaurant_freq = {\n",
    "        'never': 0,\n",
    "        'less1': 0,\n",
    "        '1~3': 0,\n",
    "        '4~8': 1,\n",
    "        'gt8': 1\n",
    "    }\n",
    "    data['RestaurantLessThan20_more_than_4'] = data['RestaurantLessThan20'].map(restaurant_freq)\n",
    "    income_mapping = {\n",
    "        'Less than $12500': 1,\n",
    "        '$12500 - $24999': 1,\n",
    "        '$25000 - $37499': 1,\n",
    "        '$37500 - $49999': 1,\n",
    "        '$50000 - $62499': 0,\n",
    "        '$62500 - $74999': 0,\n",
    "        '$75000 - $87499': 0,\n",
    "        '$87500 - $99999': 0,\n",
    "        '$100000 or More': 0\n",
    "    }\n",
    "    data['income_less_than_50K'] = data['income'].map(income_mapping)\n",
    "    condition3 = (data['RestaurantLessThan20_more_than_4'] == 1) & (data['income_less_than_50K'] == 1)\n",
    "    TMPgroupA = data.loc[condition1 | condition2 | condition3]\n",
    "    TMPgroupB = data.loc[~(condition1 | condition2 | condition3)]\n",
    "    TMPgroupA_acceptance = TMPgroupA['Y'].mean() \n",
    "    TMPgroupB_acceptance = TMPgroupB['Y'].mean() \n",
    "    print(\"\\nAcceptance rate comp:\")\n",
    "    print(f\"Drivers al least 1 od cond: {groupA_acceptance:.1%}\")\n",
    "    print(f\"All other drivers: {groupB_acceptance:.1%}\")\n",
    "else:\n",
    "    print(\"\\nRequired columns are not found in the dataset. Unable to compare acceptance rates.\")\n",
    "\n"
   ]
  },
  {
   "cell_type": "markdown",
   "metadata": {
    "id": "v3fL3QkO_qRK"
   },
   "source": [
    "7.  Based on these observations, what do you hypothesize about drivers who accepted the bar coupons?"
   ]
  },
  {
   "cell_type": "markdown",
   "metadata": {
    "id": "Y48naDFh_qRL"
   },
   "source": [
    "Drivers visiting bars > once a month have a higher acceptance rates.  Also Drivers with passengers other than kids are more likely to accept bar coupons. Drivers with lower incomes (below $50K) those who frequently dine at cheap restaurants (more than 4 times a month) are more receptive to bar coupons"
   ]
  },
  {
   "cell_type": "markdown",
   "metadata": {
    "id": "r4Hu1zOb_qRL"
   },
   "source": [
    "### Independent Investigation\n",
    "\n",
    "Using the bar coupon example as motivation, you are to explore one of the other coupon groups and try to determine the characteristics of passengers who accept the coupons.  "
   ]
  },
  {
   "cell_type": "markdown",
   "metadata": {
    "id": "0c71cQhu_qRL"
   },
   "source": [
    "Proportion of the Coffee Hosue coupons accepted "
   ]
  },
  {
   "cell_type": "code",
   "execution_count": 92,
   "metadata": {
    "id": "QEsBkvIN_qRL"
   },
   "outputs": [
    {
     "name": "stdout",
     "output_type": "stream",
     "text": [
      "Proportion of Coffee House coupons accepted: 50.23%\n"
     ]
    }
   ],
   "source": [
    "tmp_coffee_house_coupons = data.loc[data['coupon'] == 'Coffee House']\n",
    "coffee_house_acceptance_rate = tmp_coffee_house_coupons['Y'].mean() \n",
    "print(f\"Prop Coffee House coupons accepted: {coffee_house_acceptance_rate:.2%}\")"
   ]
  },
  {
   "cell_type": "markdown",
   "metadata": {
    "id": "fTC2WGE3_qRL"
   },
   "source": [
    "What is the best combination of gender, maritalStatus, and education is more willing to accept coffee House coupons ? "
   ]
  },
  {
   "cell_type": "code",
   "execution_count": 95,
   "metadata": {
    "id": "RrqUWn7d_qRL"
   },
   "outputs": [
    {
     "name": "stdout",
     "output_type": "stream",
     "text": [
      "Prop CH coupons accepted: 50.23%\n",
      "Best combination of gender, maritalStatus, and education: ('Male', 'Divorced', 'Some college - no degree')\n",
      "Acceptance rate for this combination: 87.50%\n"
     ]
    }
   ],
   "source": [
    "tmp_coffee_house_coupons = data.loc[data['coupon'] == 'Coffee House']\n",
    "coffee_house_acceptance_rate = tmp_coffee_house_coupons['Y'].mean() \n",
    "print(f\"Prop CH coupons accepted: {coffee_house_acceptance_rate:.2%}\")\n",
    "# My Best combination of gender, maritalStatus, and education for Coffee House coupons\n",
    "grouped = tmp_coffee_house_coupons.groupby(['gender', 'maritalStatus', 'education'])['Y'].mean()\n",
    "My_best_combination = grouped.idxmax()\n",
    "My_best_acceptance_rate = grouped.max()\n",
    "print(f\"Best combination of gender, maritalStatus, and education: {My_best_combination}\")\n",
    "print(f\"Acceptance rate for this combination: {My_best_acceptance_rate:.2%}\")"
   ]
  },
  {
   "cell_type": "code",
   "execution_count": null,
   "metadata": {
    "id": "_oykf8YP_qRL"
   },
   "outputs": [],
   "source": []
  }
 ],
 "metadata": {
  "colab": {
   "provenance": []
  },
  "kernelspec": {
   "display_name": "Python 3 (ipykernel)",
   "language": "python",
   "name": "python3"
  },
  "language_info": {
   "codemirror_mode": {
    "name": "ipython",
    "version": 3
   },
   "file_extension": ".py",
   "mimetype": "text/x-python",
   "name": "python",
   "nbconvert_exporter": "python",
   "pygments_lexer": "ipython3",
   "version": "3.12.7"
  }
 },
 "nbformat": 4,
 "nbformat_minor": 4
}
